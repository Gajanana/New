{
  "cells": [
    {
      "cell_type": "markdown",
      "id": "85fb2c03-ab88-4c8c-97e3-a7f2954555ab",
      "metadata": {
        "id": "85fb2c03-ab88-4c8c-97e3-a7f2954555ab"
      },
      "source": [
        "# OpenAPI Toolkit\n",
        "\n",
        "We can construct agents to consume arbitrary APIs, here APIs conformant to the `OpenAPI`/`Swagger` specification."
      ]
    },
    {
      "cell_type": "code",
      "execution_count": 1,
      "id": "798a442b",
      "metadata": {
        "id": "798a442b"
      },
      "outputs": [],
      "source": [
        "# NOTE: In this example. We must set `allow_dangerous_request=True` to enable the OpenAPI Agent to automatically use the Request Tool.\n",
        "# This can be dangerous for calling unwanted requests. Please make sure your custom OpenAPI spec (yaml) is safe.\n",
        "ALLOW_DANGEROUS_REQUEST = True"
      ]
    },
    {
      "cell_type": "code",
      "source": [
        "!pip install langchain_community spotipy langchain_google_genai"
      ],
      "metadata": {
        "colab": {
          "base_uri": "https://localhost:8080/",
          "height": 1000
        },
        "id": "dGcf7_MVyp99",
        "outputId": "04162a92-62d7-4867-b74c-b181f0274290"
      },
      "id": "dGcf7_MVyp99",
      "execution_count": 22,
      "outputs": [
        {
          "output_type": "stream",
          "name": "stdout",
          "text": [
            "Requirement already satisfied: langchain_community in /usr/local/lib/python3.12/dist-packages (0.3.27)\n",
            "Requirement already satisfied: spotipy in /usr/local/lib/python3.12/dist-packages (2.25.1)\n",
            "Collecting langchain_google_genai\n",
            "  Downloading langchain_google_genai-2.1.9-py3-none-any.whl.metadata (7.2 kB)\n",
            "Requirement already satisfied: langchain-core<1.0.0,>=0.3.66 in /usr/local/lib/python3.12/dist-packages (from langchain_community) (0.3.74)\n",
            "Requirement already satisfied: langchain<1.0.0,>=0.3.26 in /usr/local/lib/python3.12/dist-packages (from langchain_community) (0.3.27)\n",
            "Requirement already satisfied: SQLAlchemy<3,>=1.4 in /usr/local/lib/python3.12/dist-packages (from langchain_community) (2.0.43)\n",
            "Requirement already satisfied: requests<3,>=2 in /usr/local/lib/python3.12/dist-packages (from langchain_community) (2.32.4)\n",
            "Requirement already satisfied: PyYAML>=5.3 in /usr/local/lib/python3.12/dist-packages (from langchain_community) (6.0.2)\n",
            "Requirement already satisfied: aiohttp<4.0.0,>=3.8.3 in /usr/local/lib/python3.12/dist-packages (from langchain_community) (3.12.15)\n",
            "Requirement already satisfied: tenacity!=8.4.0,<10,>=8.1.0 in /usr/local/lib/python3.12/dist-packages (from langchain_community) (8.5.0)\n",
            "Requirement already satisfied: dataclasses-json<0.7,>=0.5.7 in /usr/local/lib/python3.12/dist-packages (from langchain_community) (0.6.7)\n",
            "Requirement already satisfied: pydantic-settings<3.0.0,>=2.4.0 in /usr/local/lib/python3.12/dist-packages (from langchain_community) (2.10.1)\n",
            "Requirement already satisfied: langsmith>=0.1.125 in /usr/local/lib/python3.12/dist-packages (from langchain_community) (0.4.14)\n",
            "Requirement already satisfied: httpx-sse<1.0.0,>=0.4.0 in /usr/local/lib/python3.12/dist-packages (from langchain_community) (0.4.1)\n",
            "Requirement already satisfied: numpy>=1.26.2 in /usr/local/lib/python3.12/dist-packages (from langchain_community) (2.0.2)\n",
            "Requirement already satisfied: redis>=3.5.3 in /usr/local/lib/python3.12/dist-packages (from spotipy) (6.4.0)\n",
            "Requirement already satisfied: urllib3>=1.26.0 in /usr/local/lib/python3.12/dist-packages (from spotipy) (2.5.0)\n",
            "Collecting filetype<2.0.0,>=1.2.0 (from langchain_google_genai)\n",
            "  Downloading filetype-1.2.0-py2.py3-none-any.whl.metadata (6.5 kB)\n",
            "Collecting google-ai-generativelanguage<0.7.0,>=0.6.18 (from langchain_google_genai)\n",
            "  Downloading google_ai_generativelanguage-0.6.18-py3-none-any.whl.metadata (9.8 kB)\n",
            "Requirement already satisfied: pydantic<3,>=2 in /usr/local/lib/python3.12/dist-packages (from langchain_google_genai) (2.11.7)\n",
            "Requirement already satisfied: aiohappyeyeballs>=2.5.0 in /usr/local/lib/python3.12/dist-packages (from aiohttp<4.0.0,>=3.8.3->langchain_community) (2.6.1)\n",
            "Requirement already satisfied: aiosignal>=1.4.0 in /usr/local/lib/python3.12/dist-packages (from aiohttp<4.0.0,>=3.8.3->langchain_community) (1.4.0)\n",
            "Requirement already satisfied: attrs>=17.3.0 in /usr/local/lib/python3.12/dist-packages (from aiohttp<4.0.0,>=3.8.3->langchain_community) (25.3.0)\n",
            "Requirement already satisfied: frozenlist>=1.1.1 in /usr/local/lib/python3.12/dist-packages (from aiohttp<4.0.0,>=3.8.3->langchain_community) (1.7.0)\n",
            "Requirement already satisfied: multidict<7.0,>=4.5 in /usr/local/lib/python3.12/dist-packages (from aiohttp<4.0.0,>=3.8.3->langchain_community) (6.6.4)\n",
            "Requirement already satisfied: propcache>=0.2.0 in /usr/local/lib/python3.12/dist-packages (from aiohttp<4.0.0,>=3.8.3->langchain_community) (0.3.2)\n",
            "Requirement already satisfied: yarl<2.0,>=1.17.0 in /usr/local/lib/python3.12/dist-packages (from aiohttp<4.0.0,>=3.8.3->langchain_community) (1.20.1)\n",
            "Requirement already satisfied: marshmallow<4.0.0,>=3.18.0 in /usr/local/lib/python3.12/dist-packages (from dataclasses-json<0.7,>=0.5.7->langchain_community) (3.26.1)\n",
            "Requirement already satisfied: typing-inspect<1,>=0.4.0 in /usr/local/lib/python3.12/dist-packages (from dataclasses-json<0.7,>=0.5.7->langchain_community) (0.9.0)\n",
            "Requirement already satisfied: google-api-core!=2.0.*,!=2.1.*,!=2.10.*,!=2.2.*,!=2.3.*,!=2.4.*,!=2.5.*,!=2.6.*,!=2.7.*,!=2.8.*,!=2.9.*,<3.0.0,>=1.34.1 in /usr/local/lib/python3.12/dist-packages (from google-api-core[grpc]!=2.0.*,!=2.1.*,!=2.10.*,!=2.2.*,!=2.3.*,!=2.4.*,!=2.5.*,!=2.6.*,!=2.7.*,!=2.8.*,!=2.9.*,<3.0.0,>=1.34.1->google-ai-generativelanguage<0.7.0,>=0.6.18->langchain_google_genai) (2.25.1)\n",
            "Requirement already satisfied: google-auth!=2.24.0,!=2.25.0,<3.0.0,>=2.14.1 in /usr/local/lib/python3.12/dist-packages (from google-ai-generativelanguage<0.7.0,>=0.6.18->langchain_google_genai) (2.38.0)\n",
            "Requirement already satisfied: proto-plus<2.0.0,>=1.22.3 in /usr/local/lib/python3.12/dist-packages (from google-ai-generativelanguage<0.7.0,>=0.6.18->langchain_google_genai) (1.26.1)\n",
            "Requirement already satisfied: protobuf!=4.21.0,!=4.21.1,!=4.21.2,!=4.21.3,!=4.21.4,!=4.21.5,<7.0.0,>=3.20.2 in /usr/local/lib/python3.12/dist-packages (from google-ai-generativelanguage<0.7.0,>=0.6.18->langchain_google_genai) (5.29.5)\n",
            "Requirement already satisfied: langchain-text-splitters<1.0.0,>=0.3.9 in /usr/local/lib/python3.12/dist-packages (from langchain<1.0.0,>=0.3.26->langchain_community) (0.3.9)\n",
            "Requirement already satisfied: jsonpatch<2.0,>=1.33 in /usr/local/lib/python3.12/dist-packages (from langchain-core<1.0.0,>=0.3.66->langchain_community) (1.33)\n",
            "Requirement already satisfied: typing-extensions>=4.7 in /usr/local/lib/python3.12/dist-packages (from langchain-core<1.0.0,>=0.3.66->langchain_community) (4.14.1)\n",
            "Requirement already satisfied: packaging>=23.2 in /usr/local/lib/python3.12/dist-packages (from langchain-core<1.0.0,>=0.3.66->langchain_community) (25.0)\n",
            "Requirement already satisfied: httpx<1,>=0.23.0 in /usr/local/lib/python3.12/dist-packages (from langsmith>=0.1.125->langchain_community) (0.28.1)\n",
            "Requirement already satisfied: orjson>=3.9.14 in /usr/local/lib/python3.12/dist-packages (from langsmith>=0.1.125->langchain_community) (3.11.2)\n",
            "Requirement already satisfied: requests-toolbelt>=1.0.0 in /usr/local/lib/python3.12/dist-packages (from langsmith>=0.1.125->langchain_community) (1.0.0)\n",
            "Requirement already satisfied: zstandard>=0.23.0 in /usr/local/lib/python3.12/dist-packages (from langsmith>=0.1.125->langchain_community) (0.24.0)\n",
            "Requirement already satisfied: annotated-types>=0.6.0 in /usr/local/lib/python3.12/dist-packages (from pydantic<3,>=2->langchain_google_genai) (0.7.0)\n",
            "Requirement already satisfied: pydantic-core==2.33.2 in /usr/local/lib/python3.12/dist-packages (from pydantic<3,>=2->langchain_google_genai) (2.33.2)\n",
            "Requirement already satisfied: typing-inspection>=0.4.0 in /usr/local/lib/python3.12/dist-packages (from pydantic<3,>=2->langchain_google_genai) (0.4.1)\n",
            "Requirement already satisfied: python-dotenv>=0.21.0 in /usr/local/lib/python3.12/dist-packages (from pydantic-settings<3.0.0,>=2.4.0->langchain_community) (1.1.1)\n",
            "Requirement already satisfied: charset_normalizer<4,>=2 in /usr/local/lib/python3.12/dist-packages (from requests<3,>=2->langchain_community) (3.4.3)\n",
            "Requirement already satisfied: idna<4,>=2.5 in /usr/local/lib/python3.12/dist-packages (from requests<3,>=2->langchain_community) (3.10)\n",
            "Requirement already satisfied: certifi>=2017.4.17 in /usr/local/lib/python3.12/dist-packages (from requests<3,>=2->langchain_community) (2025.8.3)\n",
            "Requirement already satisfied: greenlet>=1 in /usr/local/lib/python3.12/dist-packages (from SQLAlchemy<3,>=1.4->langchain_community) (3.2.4)\n",
            "Requirement already satisfied: googleapis-common-protos<2.0.0,>=1.56.2 in /usr/local/lib/python3.12/dist-packages (from google-api-core!=2.0.*,!=2.1.*,!=2.10.*,!=2.2.*,!=2.3.*,!=2.4.*,!=2.5.*,!=2.6.*,!=2.7.*,!=2.8.*,!=2.9.*,<3.0.0,>=1.34.1->google-api-core[grpc]!=2.0.*,!=2.1.*,!=2.10.*,!=2.2.*,!=2.3.*,!=2.4.*,!=2.5.*,!=2.6.*,!=2.7.*,!=2.8.*,!=2.9.*,<3.0.0,>=1.34.1->google-ai-generativelanguage<0.7.0,>=0.6.18->langchain_google_genai) (1.70.0)\n",
            "Requirement already satisfied: grpcio<2.0.0,>=1.33.2 in /usr/local/lib/python3.12/dist-packages (from google-api-core[grpc]!=2.0.*,!=2.1.*,!=2.10.*,!=2.2.*,!=2.3.*,!=2.4.*,!=2.5.*,!=2.6.*,!=2.7.*,!=2.8.*,!=2.9.*,<3.0.0,>=1.34.1->google-ai-generativelanguage<0.7.0,>=0.6.18->langchain_google_genai) (1.74.0)\n",
            "Requirement already satisfied: grpcio-status<2.0.0,>=1.33.2 in /usr/local/lib/python3.12/dist-packages (from google-api-core[grpc]!=2.0.*,!=2.1.*,!=2.10.*,!=2.2.*,!=2.3.*,!=2.4.*,!=2.5.*,!=2.6.*,!=2.7.*,!=2.8.*,!=2.9.*,<3.0.0,>=1.34.1->google-ai-generativelanguage<0.7.0,>=0.6.18->langchain_google_genai) (1.71.2)\n",
            "Requirement already satisfied: cachetools<6.0,>=2.0.0 in /usr/local/lib/python3.12/dist-packages (from google-auth!=2.24.0,!=2.25.0,<3.0.0,>=2.14.1->google-ai-generativelanguage<0.7.0,>=0.6.18->langchain_google_genai) (5.5.2)\n",
            "Requirement already satisfied: pyasn1-modules>=0.2.1 in /usr/local/lib/python3.12/dist-packages (from google-auth!=2.24.0,!=2.25.0,<3.0.0,>=2.14.1->google-ai-generativelanguage<0.7.0,>=0.6.18->langchain_google_genai) (0.4.2)\n",
            "Requirement already satisfied: rsa<5,>=3.1.4 in /usr/local/lib/python3.12/dist-packages (from google-auth!=2.24.0,!=2.25.0,<3.0.0,>=2.14.1->google-ai-generativelanguage<0.7.0,>=0.6.18->langchain_google_genai) (4.9.1)\n",
            "Requirement already satisfied: anyio in /usr/local/lib/python3.12/dist-packages (from httpx<1,>=0.23.0->langsmith>=0.1.125->langchain_community) (4.10.0)\n",
            "Requirement already satisfied: httpcore==1.* in /usr/local/lib/python3.12/dist-packages (from httpx<1,>=0.23.0->langsmith>=0.1.125->langchain_community) (1.0.9)\n",
            "Requirement already satisfied: h11>=0.16 in /usr/local/lib/python3.12/dist-packages (from httpcore==1.*->httpx<1,>=0.23.0->langsmith>=0.1.125->langchain_community) (0.16.0)\n",
            "Requirement already satisfied: jsonpointer>=1.9 in /usr/local/lib/python3.12/dist-packages (from jsonpatch<2.0,>=1.33->langchain-core<1.0.0,>=0.3.66->langchain_community) (3.0.0)\n",
            "Requirement already satisfied: mypy-extensions>=0.3.0 in /usr/local/lib/python3.12/dist-packages (from typing-inspect<1,>=0.4.0->dataclasses-json<0.7,>=0.5.7->langchain_community) (1.1.0)\n",
            "Requirement already satisfied: pyasn1<0.7.0,>=0.6.1 in /usr/local/lib/python3.12/dist-packages (from pyasn1-modules>=0.2.1->google-auth!=2.24.0,!=2.25.0,<3.0.0,>=2.14.1->google-ai-generativelanguage<0.7.0,>=0.6.18->langchain_google_genai) (0.6.1)\n",
            "Requirement already satisfied: sniffio>=1.1 in /usr/local/lib/python3.12/dist-packages (from anyio->httpx<1,>=0.23.0->langsmith>=0.1.125->langchain_community) (1.3.1)\n",
            "Downloading langchain_google_genai-2.1.9-py3-none-any.whl (49 kB)\n",
            "\u001b[2K   \u001b[90m━━━━━━━━━━━━━━━━━━━━━━━━━━━━━━━━━━━━━━━━\u001b[0m \u001b[32m49.4/49.4 kB\u001b[0m \u001b[31m2.1 MB/s\u001b[0m eta \u001b[36m0:00:00\u001b[0m\n",
            "\u001b[?25hDownloading filetype-1.2.0-py2.py3-none-any.whl (19 kB)\n",
            "Downloading google_ai_generativelanguage-0.6.18-py3-none-any.whl (1.4 MB)\n",
            "\u001b[2K   \u001b[90m━━━━━━━━━━━━━━━━━━━━━━━━━━━━━━━━━━━━━━━━\u001b[0m \u001b[32m1.4/1.4 MB\u001b[0m \u001b[31m24.1 MB/s\u001b[0m eta \u001b[36m0:00:00\u001b[0m\n",
            "\u001b[?25hInstalling collected packages: filetype, google-ai-generativelanguage, langchain_google_genai\n",
            "  Attempting uninstall: google-ai-generativelanguage\n",
            "    Found existing installation: google-ai-generativelanguage 0.6.15\n",
            "    Uninstalling google-ai-generativelanguage-0.6.15:\n",
            "      Successfully uninstalled google-ai-generativelanguage-0.6.15\n",
            "\u001b[31mERROR: pip's dependency resolver does not currently take into account all the packages that are installed. This behaviour is the source of the following dependency conflicts.\n",
            "google-generativeai 0.8.5 requires google-ai-generativelanguage==0.6.15, but you have google-ai-generativelanguage 0.6.18 which is incompatible.\u001b[0m\u001b[31m\n",
            "\u001b[0mSuccessfully installed filetype-1.2.0 google-ai-generativelanguage-0.6.18 langchain_google_genai-2.1.9\n"
          ]
        },
        {
          "output_type": "display_data",
          "data": {
            "application/vnd.colab-display-data+json": {
              "pip_warning": {
                "packages": [
                  "google"
                ]
              },
              "id": "db98cced08e149f9a4209b4732dcb01e"
            }
          },
          "metadata": {}
        }
      ]
    },
    {
      "cell_type": "markdown",
      "id": "a389367b",
      "metadata": {
        "id": "a389367b"
      },
      "source": [
        "## 1st example: hierarchical planning agent\n",
        "\n",
        "In this example, we'll consider an approach called hierarchical planning, common in robotics and appearing in recent works for LLMs X robotics. We'll see it's a viable approach to start working with a massive API spec AND to assist with user queries that require multiple steps against the API.\n",
        "\n",
        "The idea is simple: to get coherent agent behavior over long sequences behavior & to save on tokens, we'll separate concerns: a \"planner\" will be responsible for what endpoints to call and a \"controller\" will be responsible for how to call them.\n",
        "\n",
        "In the initial implementation, the planner is an LLM chain that has the name and a short description for each endpoint in context. The controller is an LLM agent that is instantiated with documentation for only the endpoints for a particular plan. There's a lot left to get this working very robustly :)\n",
        "\n",
        "---"
      ]
    },
    {
      "cell_type": "markdown",
      "id": "4b6ecf6e",
      "metadata": {
        "id": "4b6ecf6e"
      },
      "source": [
        "### To start, let's collect some OpenAPI specs."
      ]
    },
    {
      "cell_type": "code",
      "execution_count": 1,
      "id": "0adf3537",
      "metadata": {
        "id": "0adf3537"
      },
      "outputs": [],
      "source": [
        "import os\n",
        "\n",
        "import yaml\n",
        "import json"
      ]
    },
    {
      "cell_type": "markdown",
      "id": "816011d8",
      "metadata": {
        "id": "816011d8"
      },
      "source": [
        "You will be able to get OpenAPI specs from here: [APIs-guru/openapi-directory](https://github.com/APIs-guru/openapi-directory)"
      ]
    },
    {
      "cell_type": "code",
      "execution_count": 2,
      "id": "eb15cea0",
      "metadata": {
        "colab": {
          "base_uri": "https://localhost:8080/"
        },
        "id": "eb15cea0",
        "outputId": "bcee050c-22c6-440a-9a00-44a2e9cfedc7"
      },
      "outputs": [
        {
          "output_type": "stream",
          "name": "stdout",
          "text": [
            "--2025-08-22 17:28:53--  https://raw.githubusercontent.com/openai/openai-openapi/master/openapi.yaml\n",
            "Resolving raw.githubusercontent.com (raw.githubusercontent.com)... 185.199.111.133, 185.199.108.133, 185.199.109.133, ...\n",
            "Connecting to raw.githubusercontent.com (raw.githubusercontent.com)|185.199.111.133|:443... connected.\n",
            "HTTP request sent, awaiting response... 404 Not Found\n",
            "2025-08-22 17:28:53 ERROR 404: Not Found.\n",
            "\n",
            "--2025-08-22 17:28:53--  https://www.klarna.com/us/shopping/public/openai/v0/api-docs\n",
            "Resolving www.klarna.com (www.klarna.com)... 18.154.185.99, 18.154.185.58, 18.154.185.62, ...\n",
            "Connecting to www.klarna.com (www.klarna.com)|18.154.185.99|:443... connected.\n",
            "HTTP request sent, awaiting response... 202 Accepted\n",
            "Length: 0 [text/html]\n",
            "Saving to: ‘klarna_openapi.yaml’\n",
            "\n",
            "klarna_openapi.yaml     [ <=>                ]       0  --.-KB/s    in 0s      \n",
            "\n",
            "2025-08-22 17:28:53 (0.00 B/s) - ‘klarna_openapi.yaml’ saved [0/0]\n",
            "\n",
            "--2025-08-22 17:28:53--  https://raw.githubusercontent.com/APIs-guru/openapi-directory/main/APIs/spotify.com/1.0.0/openapi.yaml\n",
            "Resolving raw.githubusercontent.com (raw.githubusercontent.com)... 185.199.111.133, 185.199.110.133, 185.199.109.133, ...\n",
            "Connecting to raw.githubusercontent.com (raw.githubusercontent.com)|185.199.111.133|:443... connected.\n",
            "HTTP request sent, awaiting response... 200 OK\n",
            "Length: 289324 (283K) [text/plain]\n",
            "Saving to: ‘spotify_openapi.yaml’\n",
            "\n",
            "spotify_openapi.yam 100%[===================>] 282.54K  --.-KB/s    in 0.04s   \n",
            "\n",
            "2025-08-22 17:28:54 (6.95 MB/s) - ‘spotify_openapi.yaml’ saved [289324/289324]\n",
            "\n"
          ]
        }
      ],
      "source": [
        "!wget https://raw.githubusercontent.com/openai/openai-openapi/master/openapi.yaml -O openai_openapi.yaml\n",
        "!wget https://www.klarna.com/us/shopping/public/openai/v0/api-docs -O klarna_openapi.yaml\n",
        "!wget https://raw.githubusercontent.com/APIs-guru/openapi-directory/main/APIs/spotify.com/1.0.0/openapi.yaml -O spotify_openapi.yaml"
      ]
    },
    {
      "cell_type": "code",
      "execution_count": 3,
      "id": "690a35bf",
      "metadata": {
        "id": "690a35bf"
      },
      "outputs": [],
      "source": [
        "from langchain_community.agent_toolkits.openapi.spec import reduce_openapi_spec"
      ]
    },
    {
      "cell_type": "code",
      "execution_count": 4,
      "id": "69a8e1b9",
      "metadata": {
        "id": "69a8e1b9"
      },
      "outputs": [],
      "source": [
        "# with open(\"/content/openai_openapi.yaml\") as f:\n",
        "#     raw_openai_api_spec = yaml.load(f, Loader=yaml.Loader)\n",
        "# openai_api_spec = reduce_openapi_spec(raw_openai_api_spec)\n",
        "\n",
        "# with open(\"/content/klarna_openapi.yaml\") as f:\n",
        "#     raw_klarna_api_spec = yaml.load(f, Loader=yaml.Loader)\n",
        "# klarna_api_spec = reduce_openapi_spec(raw_klarna_api_spec)\n",
        "\n",
        "# with open(\"/content/spotify_openapi.yaml\") as f:\n",
        "#     raw_spotify_api_spec = yaml.load(f, Loader=yaml.Loader)\n",
        "# spotify_api_spec = reduce_openapi_spec(raw_spotify_api_spec)\n",
        "\n",
        "with open(\"/content/network-monitoring-final-openapi.json\") as f:\n",
        "    raw_aruba_api_spec = json.load(f)\n",
        "    # print(json.dumps(raw_aruba_api_spec, indent=2))\n",
        "aruba_api_spec = reduce_openapi_spec(raw_aruba_api_spec)\n"
      ]
    },
    {
      "cell_type": "markdown",
      "id": "ba833d49",
      "metadata": {
        "id": "ba833d49"
      },
      "source": [
        "---\n",
        "\n",
        "We'll work with the Spotify API as one of the examples of a somewhat complex API. There's a bit of auth-related setup to do if you want to replicate this.\n",
        "\n",
        "- You'll have to set up an application in the Spotify developer console, documented [here](https://developer.spotify.com/documentation/general/guides/authorization/), to get credentials: `CLIENT_ID`, `CLIENT_SECRET`, and `REDIRECT_URI`.\n",
        "- To get an access tokens (and keep them fresh), you can implement the oauth flows, or you can use `spotipy`. If you've set your Spotify creedentials as environment variables `SPOTIPY_CLIENT_ID`, `SPOTIPY_CLIENT_SECRET`, and `SPOTIPY_REDIRECT_URI`, you can use the helper functions below:"
      ]
    },
    {
      "cell_type": "code",
      "execution_count": 18,
      "id": "a82c2cfa",
      "metadata": {
        "id": "a82c2cfa"
      },
      "outputs": [],
      "source": [
        "import spotipy.util as util\n",
        "from langchain_community.utilities.requests import RequestsWrapper\n",
        "\n",
        "\n",
        "def construct_spotify_auth_headers(raw_spec: dict):\n",
        "    # scopes = list(\n",
        "    #     raw_spec[\"components\"][\"securitySchemes\"][\"oauth_2_0\"][\"flows\"][\n",
        "    #         \"authorizationCode\"\n",
        "    #     ][\"scopes\"].keys()\n",
        "    # )\n",
        "    # access_token = util.prompt_for_user_token(scope=\",\".join(scopes))\n",
        "    access_token =\"abcxyz\"\n",
        "    return {\"Authorization\": f\"Bearer {access_token}\"}\n",
        "\n",
        "\n",
        "# Get API credentials.\n",
        "headers = construct_spotify_auth_headers(raw_aruba_api_spec)\n",
        "requests_wrapper = RequestsWrapper(headers=headers)"
      ]
    },
    {
      "cell_type": "markdown",
      "id": "76349780",
      "metadata": {
        "id": "76349780"
      },
      "source": [
        "### How big is this spec?"
      ]
    },
    {
      "cell_type": "code",
      "execution_count": 7,
      "id": "2a93271e",
      "metadata": {
        "colab": {
          "base_uri": "https://localhost:8080/"
        },
        "id": "2a93271e",
        "outputId": "57d7067c-0d3d-49dd-90ed-cfddfa84c7f3"
      },
      "outputs": [
        {
          "output_type": "execute_result",
          "data": {
            "text/plain": [
              "108"
            ]
          },
          "metadata": {},
          "execution_count": 7
        }
      ],
      "source": [
        "endpoints = [\n",
        "    (route, operation)\n",
        "    for route, operations in raw_aruba_api_spec[\"paths\"].items()\n",
        "    for operation in operations\n",
        "    if operation in [\"get\", \"post\"]\n",
        "]\n",
        "len(endpoints)"
      ]
    },
    {
      "cell_type": "code",
      "execution_count": 24,
      "id": "eb829190",
      "metadata": {
        "id": "eb829190"
      },
      "outputs": [],
      "source": [
        "import tiktoken\n",
        "\n",
        "enc = tiktoken.encoding_for_model(\"gpt-4\")\n",
        "\n",
        "\n",
        "def count_tokens(s):\n",
        "    return len(enc.encode(s))\n",
        "\n",
        "\n",
        "count_tokens(yaml.dump(raw_aruba_api_spec))\n",
        "\n",
        "from dotenv import load_dotenv\n",
        "# Load the .env file\n",
        "load_dotenv()\n",
        "# Get API key from environment variable\n",
        "\n",
        "# api_key = os.getenv(\"GEMINI_API_KEY\")\n",
        "from google.colab import userdata\n",
        "api_key = userdata.get('GEMINI_API_KEY')\n",
        "# print(api_key)"
      ]
    },
    {
      "cell_type": "markdown",
      "id": "cbc4964e",
      "metadata": {
        "id": "cbc4964e"
      },
      "source": [
        "### Let's see some examples!\n",
        "\n",
        "Starting with GPT-4. (Some robustness iterations under way for GPT-3 family.)"
      ]
    },
    {
      "cell_type": "code",
      "execution_count": 15,
      "id": "7f42ee84",
      "metadata": {
        "id": "7f42ee84"
      },
      "outputs": [],
      "source": [
        "from langchain_community.agent_toolkits.openapi import planner\n",
        "# from langchain_openai import ChatOpenAI\n",
        "from langchain_google_genai import ChatGoogleGenerativeAI\n",
        "\n",
        "# llm = ChatOpenAI(model_name=\"gpt-4\", temperature=0.0)\n",
        "llm = ChatGoogleGenerativeAI(\n",
        "    model=\"gemini-2.5-flash-lite-preview-06-17\",  # or \"gemini-1.5-flash\" for faster responses\n",
        "    temperature=0,\n",
        "    google_api_key=api_key\n",
        "\n",
        ")"
      ]
    },
    {
      "cell_type": "code",
      "execution_count": 21,
      "id": "38762cc0",
      "metadata": {
        "colab": {
          "base_uri": "https://localhost:8080/"
        },
        "id": "38762cc0",
        "outputId": "ac1031bd-d089-4cb1-c183-14dc26259ed3"
      },
      "outputs": [
        {
          "output_type": "stream",
          "name": "stdout",
          "text": [
            "\n",
            "\n",
            "\u001b[1m> Entering new AgentExecutor chain...\u001b[0m\n",
            "\u001b[32;1m\u001b[1;3mAction: api_planner\n",
            "Action Input: Create floor and place devices.\u001b[0m\n",
            "Observation: \u001b[36;1m\u001b[1;3m1. GET /network-monitoring/v1alpha1/catalogue-aps to get a list of available APs.\n",
            "2. POST /network-monitoring/v1alpha1/sitemaps/{site-id}/floors to create a new floor. You will need to provide the site ID and floor details.\n",
            "3. POST /network-monitoring/v1alpha1/sitemaps/{site-id}/network-devices-planned to plan the placement of devices on the newly created floor. You will need to provide the site ID, floor ID, and device details including their planned locations.\n",
            "4. POST /network-monitoring/v1alpha1/sitemaps/{site-id}/network-devices-deployed to deploy the planned devices onto the floor. You will need to provide the site ID and floor ID.\u001b[0m\n",
            "Thought:\u001b[32;1m\u001b[1;3mI have a plan to create a floor and place devices. However, the plan requires a `site-id` which is not provided in the user query. I need to ask the user for this information.\n",
            "I need to ask the user for the site ID.\n",
            "Final Answer: I can help with that. What is the site ID?\u001b[0m\n",
            "\n",
            "\u001b[1m> Finished chain.\u001b[0m\n"
          ]
        },
        {
          "output_type": "execute_result",
          "data": {
            "text/plain": [
              "{'input': 'Create floor and place devices.',\n",
              " 'output': 'I can help with that. What is the site ID?'}"
            ]
          },
          "metadata": {},
          "execution_count": 21
        }
      ],
      "source": [
        "# NOTE: set allow_dangerous_requests manually for security concern https://python.langchain.com/docs/security\n",
        "ALLOW_DANGEROUS_REQUEST =True\n",
        "aruba_agent = planner.create_openapi_agent(\n",
        "    aruba_api_spec,\n",
        "    requests_wrapper,\n",
        "    llm,\n",
        "    allow_dangerous_requests=ALLOW_DANGEROUS_REQUEST,\n",
        ")\n",
        "# user_query = (\n",
        "#     \"make me a playlist with the first song from kind of blue. call it machine blues.\"\n",
        "# )\n",
        "user_query = (\n",
        "    \"Create floor and place devices.\"\n",
        ")\n",
        "aruba_agent.invoke(user_query)"
      ]
    },
    {
      "cell_type": "code",
      "execution_count": null,
      "id": "96184181",
      "metadata": {
        "id": "96184181",
        "outputId": "497902f2-2147-4c91-8131-c3f8c4a8ee7b"
      },
      "outputs": [
        {
          "name": "stdout",
          "output_type": "stream",
          "text": [
            "\n",
            "\n",
            "\u001b[1m> Entering new AgentExecutor chain...\u001b[0m\n",
            "\u001b[32;1m\u001b[1;3mAction: api_planner\n",
            "Action Input: I need to find the right API calls to get a blues song recommendation for the user\u001b[0m\n",
            "Observation: \u001b[36;1m\u001b[1;3m1. GET /me to get the current user's information\n",
            "2. GET /recommendations/available-genre-seeds to retrieve a list of available genres\n",
            "3. GET /recommendations with the seed_genre parameter set to \"blues\" to get a blues song recommendation for the user\u001b[0m\n",
            "Thought:\u001b[32;1m\u001b[1;3mI have the plan, now I need to execute the API calls.\n",
            "Action: api_controller\n",
            "Action Input: 1. GET /me to get the current user's information\n",
            "2. GET /recommendations/available-genre-seeds to retrieve a list of available genres\n",
            "3. GET /recommendations with the seed_genre parameter set to \"blues\" to get a blues song recommendation for the user\u001b[0m\n",
            "\n",
            "\u001b[1m> Entering new AgentExecutor chain...\u001b[0m\n",
            "\u001b[32;1m\u001b[1;3mAction: requests_get\n",
            "Action Input: {\"url\": \"https://api.spotify.com/v1/me\", \"output_instructions\": \"Extract the user's id and username\"}\u001b[0m\n",
            "Observation: \u001b[36;1m\u001b[1;3mID: 22rhrz4m4kvpxlsb5hezokzwi, Username: Jeremy Welborn\u001b[0m\n",
            "Thought:\u001b[32;1m\u001b[1;3mAction: requests_get\n",
            "Action Input: {\"url\": \"https://api.spotify.com/v1/recommendations/available-genre-seeds\", \"output_instructions\": \"Extract the list of available genres\"}\u001b[0m\n",
            "Observation: \u001b[36;1m\u001b[1;3macoustic, afrobeat, alt-rock, alternative, ambient, anime, black-metal, bluegrass, blues, bossanova, brazil, breakbeat, british, cantopop, chicago-house, children, chill, classical, club, comedy, country, dance, dancehall, death-metal, deep-house, detroit-techno, disco, disney, drum-and-bass, dub, dubstep, edm, electro, electronic, emo, folk, forro, french, funk, garage, german, gospel, goth, grindcore, groove, grunge, guitar, happy, hard-rock, hardcore, hardstyle, heavy-metal, hip-hop, holidays, honky-tonk, house, idm, indian, indie, indie-pop, industrial, iranian, j-dance, j-idol, j-pop, j-rock, jazz, k-pop, kids, latin, latino, malay, mandopop, metal, metal-misc, metalcore, minimal-techno, movies, mpb, new-age, new-release, opera, pagode, party, philippines-\u001b[0m\n",
            "Thought:"
          ]
        },
        {
          "name": "stderr",
          "output_type": "stream",
          "text": [
            "Retrying langchain.llms.openai.completion_with_retry.<locals>._completion_with_retry in 4.0 seconds as it raised RateLimitError: That model is currently overloaded with other requests. You can retry your request, or contact us through our help center at help.openai.com if the error persists. (Please include the request ID 2167437a0072228238f3c0c5b3882764 in your message.).\n"
          ]
        },
        {
          "name": "stdout",
          "output_type": "stream",
          "text": [
            "\u001b[32;1m\u001b[1;3mAction: requests_get\n",
            "Action Input: {\"url\": \"https://api.spotify.com/v1/recommendations?seed_genres=blues\", \"output_instructions\": \"Extract the list of recommended tracks with their ids and names\"}\u001b[0m\n",
            "Observation: \u001b[36;1m\u001b[1;3m[\n",
            "  {\n",
            "    id: '03lXHmokj9qsXspNsPoirR',\n",
            "    name: 'Get Away Jordan'\n",
            "  }\n",
            "]\u001b[0m\n",
            "Thought:\u001b[32;1m\u001b[1;3mI am finished executing the plan.\n",
            "Final Answer: The recommended blues song for user Jeremy Welborn (ID: 22rhrz4m4kvpxlsb5hezokzwi) is \"Get Away Jordan\" with the track ID: 03lXHmokj9qsXspNsPoirR.\u001b[0m\n",
            "\n",
            "\u001b[1m> Finished chain.\u001b[0m\n",
            "\n",
            "Observation: \u001b[33;1m\u001b[1;3mThe recommended blues song for user Jeremy Welborn (ID: 22rhrz4m4kvpxlsb5hezokzwi) is \"Get Away Jordan\" with the track ID: 03lXHmokj9qsXspNsPoirR.\u001b[0m\n",
            "Thought:\u001b[32;1m\u001b[1;3mI am finished executing the plan and have the information the user asked for.\n",
            "Final Answer: The recommended blues song for you is \"Get Away Jordan\" with the track ID: 03lXHmokj9qsXspNsPoirR.\u001b[0m\n",
            "\n",
            "\u001b[1m> Finished chain.\u001b[0m\n"
          ]
        },
        {
          "data": {
            "text/plain": [
              "'The recommended blues song for you is \"Get Away Jordan\" with the track ID: 03lXHmokj9qsXspNsPoirR.'"
            ]
          },
          "execution_count": 12,
          "metadata": {},
          "output_type": "execute_result"
        }
      ],
      "source": [
        "# user_query = \"give me a song I'd like, make it blues-ey\"\n",
        "# spotify_agent.invoke(user_query)"
      ]
    },
    {
      "cell_type": "markdown",
      "id": "d5317926",
      "metadata": {
        "id": "d5317926"
      },
      "source": [
        "#### Try another API.\n"
      ]
    },
    {
      "cell_type": "code",
      "execution_count": null,
      "id": "06c3d6a8",
      "metadata": {
        "id": "06c3d6a8"
      },
      "outputs": [],
      "source": [
        "headers = {\"Authorization\": f\"Bearer {os.getenv('OPENAI_API_KEY')}\"}\n",
        "openai_requests_wrapper = RequestsWrapper(headers=headers)"
      ]
    },
    {
      "cell_type": "code",
      "execution_count": null,
      "id": "3a9cc939",
      "metadata": {
        "id": "3a9cc939",
        "outputId": "2c613ebf-17ea-4dbd-e70f-a4c37c3cde6f"
      },
      "outputs": [
        {
          "name": "stdout",
          "output_type": "stream",
          "text": [
            "\n",
            "\n",
            "\u001b[1m> Entering new AgentExecutor chain...\u001b[0m\n",
            "\u001b[32;1m\u001b[1;3mAction: api_planner\n",
            "Action Input: I need to find the right API calls to generate a short piece of advice\u001b[0m\n",
            "Observation: \u001b[36;1m\u001b[1;3m1. GET /engines to retrieve the list of available engines\n",
            "2. POST /completions with the selected engine and a prompt for generating a short piece of advice\u001b[0m\n",
            "Thought:\u001b[32;1m\u001b[1;3mI have the plan, now I need to execute the API calls.\n",
            "Action: api_controller\n",
            "Action Input: 1. GET /engines to retrieve the list of available engines\n",
            "2. POST /completions with the selected engine and a prompt for generating a short piece of advice\u001b[0m\n",
            "\n",
            "\u001b[1m> Entering new AgentExecutor chain...\u001b[0m\n",
            "\u001b[32;1m\u001b[1;3mAction: requests_get\n",
            "Action Input: {\"url\": \"https://api.openai.com/v1/engines\", \"output_instructions\": \"Extract the ids of the engines\"}\u001b[0m\n",
            "Observation: \u001b[36;1m\u001b[1;3mbabbage, davinci, text-davinci-edit-001, babbage-code-search-code, text-similarity-babbage-001, code-davinci-edit-001, text-davinci-001, ada, babbage-code-search-text, babbage-similarity, whisper-1, code-search-babbage-text-001, text-curie-001, code-search-babbage-code-001, text-ada-001, text-embedding-ada-002, text-similarity-ada-001, curie-instruct-beta, ada-code-search-code, ada-similarity, text-davinci-003, code-search-ada-text-001, text-search-ada-query-001, davinci-search-document, ada-code-search-text, text-search-ada-doc-001, davinci-instruct-beta, text-similarity-curie-001, code-search-ada-code-001\u001b[0m\n",
            "Thought:\u001b[32;1m\u001b[1;3mI will use the \"davinci\" engine to generate a short piece of advice.\n",
            "Action: requests_post\n",
            "Action Input: {\"url\": \"https://api.openai.com/v1/completions\", \"data\": {\"engine\": \"davinci\", \"prompt\": \"Give me a short piece of advice on how to be more productive.\"}, \"output_instructions\": \"Extract the text from the first choice\"}\u001b[0m\n",
            "Observation: \u001b[33;1m\u001b[1;3m\"you must provide a model parameter\"\u001b[0m\n",
            "Thought:!! Could not _extract_tool_and_input from \"I cannot finish executing the plan without knowing how to provide the model parameter correctly.\" in _get_next_action\n",
            "\u001b[32;1m\u001b[1;3mI cannot finish executing the plan without knowing how to provide the model parameter correctly.\u001b[0m\n",
            "\n",
            "\u001b[1m> Finished chain.\u001b[0m\n",
            "\n",
            "Observation: \u001b[33;1m\u001b[1;3mI need more information on how to provide the model parameter correctly in the POST request to generate a short piece of advice.\u001b[0m\n",
            "Thought:\u001b[32;1m\u001b[1;3mI need to adjust my plan to include the model parameter in the POST request.\n",
            "Action: api_planner\n",
            "Action Input: I need to find the right API calls to generate a short piece of advice, including the model parameter in the POST request\u001b[0m\n",
            "Observation: \u001b[36;1m\u001b[1;3m1. GET /models to retrieve the list of available models\n",
            "2. Choose a suitable model from the list\n",
            "3. POST /completions with the chosen model as a parameter to generate a short piece of advice\u001b[0m\n",
            "Thought:\u001b[32;1m\u001b[1;3mI have an updated plan, now I need to execute the API calls.\n",
            "Action: api_controller\n",
            "Action Input: 1. GET /models to retrieve the list of available models\n",
            "2. Choose a suitable model from the list\n",
            "3. POST /completions with the chosen model as a parameter to generate a short piece of advice\u001b[0m\n",
            "\n",
            "\u001b[1m> Entering new AgentExecutor chain...\u001b[0m\n",
            "\u001b[32;1m\u001b[1;3mAction: requests_get\n",
            "Action Input: {\"url\": \"https://api.openai.com/v1/models\", \"output_instructions\": \"Extract the ids of the available models\"}\u001b[0m\n",
            "Observation: \u001b[36;1m\u001b[1;3mbabbage, davinci, text-davinci-edit-001, babbage-code-search-code, text-similarity-babbage-001, code-davinci-edit-001, text-davinci-edit-001, ada\u001b[0m\n",
            "Thought:\u001b[32;1m\u001b[1;3mAction: requests_post\n",
            "Action Input: {\"url\": \"https://api.openai.com/v1/completions\", \"data\": {\"model\": \"davinci\", \"prompt\": \"Give me a short piece of advice on how to improve communication skills.\"}, \"output_instructions\": \"Extract the text from the first choice\"}\u001b[0m\n",
            "Observation: \u001b[33;1m\u001b[1;3m\"I'd like to broaden my horizon.\\n\\nI was trying to\"\u001b[0m\n",
            "Thought:\u001b[32;1m\u001b[1;3mI cannot finish executing the plan without knowing some other information.\n",
            "\n",
            "Final Answer: The generated text is not a piece of advice on improving communication skills. I would need to retry the API call with a different prompt or model to get a more relevant response.\u001b[0m\n",
            "\n",
            "\u001b[1m> Finished chain.\u001b[0m\n",
            "\n",
            "Observation: \u001b[33;1m\u001b[1;3mThe generated text is not a piece of advice on improving communication skills. I would need to retry the API call with a different prompt or model to get a more relevant response.\u001b[0m\n",
            "Thought:\u001b[32;1m\u001b[1;3mI need to adjust my plan to include a more specific prompt for generating a short piece of advice on improving communication skills.\n",
            "Action: api_planner\n",
            "Action Input: I need to find the right API calls to generate a short piece of advice on improving communication skills, including the model parameter in the POST request\u001b[0m\n",
            "Observation: \u001b[36;1m\u001b[1;3m1. GET /models to retrieve the list of available models\n",
            "2. Choose a suitable model for generating text (e.g., text-davinci-002)\n",
            "3. POST /completions with the chosen model and a prompt related to improving communication skills to generate a short piece of advice\u001b[0m\n",
            "Thought:\u001b[32;1m\u001b[1;3mI have an updated plan, now I need to execute the API calls.\n",
            "Action: api_controller\n",
            "Action Input: 1. GET /models to retrieve the list of available models\n",
            "2. Choose a suitable model for generating text (e.g., text-davinci-002)\n",
            "3. POST /completions with the chosen model and a prompt related to improving communication skills to generate a short piece of advice\u001b[0m\n",
            "\n",
            "\u001b[1m> Entering new AgentExecutor chain...\u001b[0m\n",
            "\u001b[32;1m\u001b[1;3mAction: requests_get\n",
            "Action Input: {\"url\": \"https://api.openai.com/v1/models\", \"output_instructions\": \"Extract the names of the models\"}\u001b[0m\n",
            "Observation: \u001b[36;1m\u001b[1;3mbabbage, davinci, text-davinci-edit-001, babbage-code-search-code, text-similarity-babbage-001, code-davinci-edit-001, text-davinci-edit-001, ada\u001b[0m\n",
            "Thought:\u001b[32;1m\u001b[1;3mAction: requests_post\n",
            "Action Input: {\"url\": \"https://api.openai.com/v1/completions\", \"data\": {\"model\": \"text-davinci-002\", \"prompt\": \"Give a short piece of advice on how to improve communication skills\"}, \"output_instructions\": \"Extract the text from the first choice\"}\u001b[0m\n",
            "Observation: \u001b[33;1m\u001b[1;3m\"Some basic advice for improving communication skills would be to make sure to listen\"\u001b[0m\n",
            "Thought:\u001b[32;1m\u001b[1;3mI am finished executing the plan.\n",
            "\n",
            "Final Answer: Some basic advice for improving communication skills would be to make sure to listen.\u001b[0m\n",
            "\n",
            "\u001b[1m> Finished chain.\u001b[0m\n",
            "\n",
            "Observation: \u001b[33;1m\u001b[1;3mSome basic advice for improving communication skills would be to make sure to listen.\u001b[0m\n",
            "Thought:\u001b[32;1m\u001b[1;3mI am finished executing the plan and have the information the user asked for.\n",
            "Final Answer: A short piece of advice for improving communication skills is to make sure to listen.\u001b[0m\n",
            "\n",
            "\u001b[1m> Finished chain.\u001b[0m\n"
          ]
        },
        {
          "data": {
            "text/plain": [
              "'A short piece of advice for improving communication skills is to make sure to listen.'"
            ]
          },
          "execution_count": 28,
          "metadata": {},
          "output_type": "execute_result"
        }
      ],
      "source": [
        "# Meta!\n",
        "llm = ChatOpenAI(model_name=\"gpt-4\", temperature=0.25)\n",
        "openai_agent = planner.create_openapi_agent(\n",
        "    openai_api_spec, openai_requests_wrapper, llm\n",
        ")\n",
        "user_query = \"generate a short piece of advice\"\n",
        "openai_agent.invoke(user_query)"
      ]
    },
    {
      "cell_type": "markdown",
      "id": "f32bc6ec",
      "metadata": {
        "id": "f32bc6ec"
      },
      "source": [
        "Takes awhile to get there!"
      ]
    },
    {
      "cell_type": "markdown",
      "id": "461229e4",
      "metadata": {
        "id": "461229e4"
      },
      "source": [
        "## 2nd example: \"json explorer\" agent\n",
        "\n",
        "Here's an agent that's not particularly practical, but neat! The agent has access to 2 toolkits. One comprises tools to interact with json: one tool to list the keys of a json object and another tool to get the value for a given key. The other toolkit comprises `requests` wrappers to send GET and POST requests. This agent consumes a lot calls to the language model, but does a surprisingly decent job.\n"
      ]
    },
    {
      "cell_type": "code",
      "execution_count": null,
      "id": "f8dfa1d3",
      "metadata": {
        "id": "f8dfa1d3"
      },
      "outputs": [],
      "source": [
        "from langchain_community.agent_toolkits import OpenAPIToolkit, create_openapi_agent\n",
        "from langchain_community.tools.json.tool import JsonSpec\n",
        "from langchain_openai import OpenAI"
      ]
    },
    {
      "cell_type": "code",
      "execution_count": null,
      "id": "9ecd1ba0-3937-4359-a41e-68605f0596a1",
      "metadata": {
        "tags": [],
        "id": "9ecd1ba0-3937-4359-a41e-68605f0596a1"
      },
      "outputs": [],
      "source": [
        "with open(\"openai_openapi.yaml\") as f:\n",
        "    data = yaml.load(f, Loader=yaml.FullLoader)\n",
        "json_spec = JsonSpec(dict_=data, max_value_length=4000)\n",
        "\n",
        "\n",
        "openapi_toolkit = OpenAPIToolkit.from_llm(\n",
        "    OpenAI(temperature=0), json_spec, openai_requests_wrapper, verbose=True\n",
        ")\n",
        "openapi_agent_executor = create_openapi_agent(\n",
        "    llm=OpenAI(temperature=0),\n",
        "    toolkit=openapi_toolkit,\n",
        "    allow_dangerous_requests=ALLOW_DANGEROUS_REQUEST,\n",
        "    verbose=True,\n",
        ")"
      ]
    },
    {
      "cell_type": "code",
      "execution_count": null,
      "id": "548db7f7-337b-4ba8-905c-e7fd58c01799",
      "metadata": {
        "tags": [],
        "id": "548db7f7-337b-4ba8-905c-e7fd58c01799",
        "outputId": "d3795784-36b9-4a0d-ffd7-8178f637655b"
      },
      "outputs": [
        {
          "name": "stdout",
          "output_type": "stream",
          "text": [
            "\n",
            "\n",
            "\u001b[1m> Entering new AgentExecutor chain...\u001b[0m\n",
            "\u001b[32;1m\u001b[1;3mAction: json_explorer\n",
            "Action Input: What is the base url for the API?\u001b[0m\n",
            "\n",
            "\u001b[1m> Entering new AgentExecutor chain...\u001b[0m\n",
            "\u001b[32;1m\u001b[1;3mAction: json_spec_list_keys\n",
            "Action Input: data\u001b[0m\n",
            "Observation: \u001b[36;1m\u001b[1;3m['openapi', 'info', 'servers', 'tags', 'paths', 'components', 'x-oaiMeta']\u001b[0m\n",
            "Thought:\u001b[32;1m\u001b[1;3m I should look at the servers key to see what the base url is\n",
            "Action: json_spec_list_keys\n",
            "Action Input: data[\"servers\"][0]\u001b[0m\n",
            "Observation: \u001b[36;1m\u001b[1;3mValueError('Value at path `data[\"servers\"][0]` is not a dict, get the value directly.')\u001b[0m\n",
            "Thought:\u001b[32;1m\u001b[1;3m I should get the value of the servers key\n",
            "Action: json_spec_get_value\n",
            "Action Input: data[\"servers\"][0]\u001b[0m\n",
            "Observation: \u001b[33;1m\u001b[1;3m{'url': 'https://api.openai.com/v1'}\u001b[0m\n",
            "Thought:\u001b[32;1m\u001b[1;3m I now know the base url for the API\n",
            "Final Answer: The base url for the API is https://api.openai.com/v1\u001b[0m\n",
            "\n",
            "\u001b[1m> Finished chain.\u001b[0m\n",
            "\n",
            "Observation: \u001b[33;1m\u001b[1;3mThe base url for the API is https://api.openai.com/v1\u001b[0m\n",
            "Thought:\u001b[32;1m\u001b[1;3m I should find the path for the /completions endpoint.\n",
            "Action: json_explorer\n",
            "Action Input: What is the path for the /completions endpoint?\u001b[0m\n",
            "\n",
            "\u001b[1m> Entering new AgentExecutor chain...\u001b[0m\n",
            "\u001b[32;1m\u001b[1;3mAction: json_spec_list_keys\n",
            "Action Input: data\u001b[0m\n",
            "Observation: \u001b[36;1m\u001b[1;3m['openapi', 'info', 'servers', 'tags', 'paths', 'components', 'x-oaiMeta']\u001b[0m\n",
            "Thought:\u001b[32;1m\u001b[1;3m I should look at the paths key to see what endpoints exist\n",
            "Action: json_spec_list_keys\n",
            "Action Input: data[\"paths\"]\u001b[0m\n",
            "Observation: \u001b[36;1m\u001b[1;3m['/engines', '/engines/{engine_id}', '/completions', '/chat/completions', '/edits', '/images/generations', '/images/edits', '/images/variations', '/embeddings', '/audio/transcriptions', '/audio/translations', '/engines/{engine_id}/search', '/files', '/files/{file_id}', '/files/{file_id}/content', '/answers', '/classifications', '/fine-tunes', '/fine-tunes/{fine_tune_id}', '/fine-tunes/{fine_tune_id}/cancel', '/fine-tunes/{fine_tune_id}/events', '/models', '/models/{model}', '/moderations']\u001b[0m\n",
            "Thought:\u001b[32;1m\u001b[1;3m I now know the path for the /completions endpoint\n",
            "Final Answer: The path for the /completions endpoint is data[\"paths\"][2]\u001b[0m\n",
            "\n",
            "\u001b[1m> Finished chain.\u001b[0m\n",
            "\n",
            "Observation: \u001b[33;1m\u001b[1;3mThe path for the /completions endpoint is data[\"paths\"][2]\u001b[0m\n",
            "Thought:\u001b[32;1m\u001b[1;3m I should find the required parameters for the POST request.\n",
            "Action: json_explorer\n",
            "Action Input: What are the required parameters for a POST request to the /completions endpoint?\u001b[0m\n",
            "\n",
            "\u001b[1m> Entering new AgentExecutor chain...\u001b[0m\n",
            "\u001b[32;1m\u001b[1;3mAction: json_spec_list_keys\n",
            "Action Input: data\u001b[0m\n",
            "Observation: \u001b[36;1m\u001b[1;3m['openapi', 'info', 'servers', 'tags', 'paths', 'components', 'x-oaiMeta']\u001b[0m\n",
            "Thought:\u001b[32;1m\u001b[1;3m I should look at the paths key to see what endpoints exist\n",
            "Action: json_spec_list_keys\n",
            "Action Input: data[\"paths\"]\u001b[0m\n",
            "Observation: \u001b[36;1m\u001b[1;3m['/engines', '/engines/{engine_id}', '/completions', '/chat/completions', '/edits', '/images/generations', '/images/edits', '/images/variations', '/embeddings', '/audio/transcriptions', '/audio/translations', '/engines/{engine_id}/search', '/files', '/files/{file_id}', '/files/{file_id}/content', '/answers', '/classifications', '/fine-tunes', '/fine-tunes/{fine_tune_id}', '/fine-tunes/{fine_tune_id}/cancel', '/fine-tunes/{fine_tune_id}/events', '/models', '/models/{model}', '/moderations']\u001b[0m\n",
            "Thought:\u001b[32;1m\u001b[1;3m I should look at the /completions endpoint to see what parameters are required\n",
            "Action: json_spec_list_keys\n",
            "Action Input: data[\"paths\"][\"/completions\"]\u001b[0m\n",
            "Observation: \u001b[36;1m\u001b[1;3m['post']\u001b[0m\n",
            "Thought:\u001b[32;1m\u001b[1;3m I should look at the post key to see what parameters are required\n",
            "Action: json_spec_list_keys\n",
            "Action Input: data[\"paths\"][\"/completions\"][\"post\"]\u001b[0m\n",
            "Observation: \u001b[36;1m\u001b[1;3m['operationId', 'tags', 'summary', 'requestBody', 'responses', 'x-oaiMeta']\u001b[0m\n",
            "Thought:\u001b[32;1m\u001b[1;3m I should look at the requestBody key to see what parameters are required\n",
            "Action: json_spec_list_keys\n",
            "Action Input: data[\"paths\"][\"/completions\"][\"post\"][\"requestBody\"]\u001b[0m\n",
            "Observation: \u001b[36;1m\u001b[1;3m['required', 'content']\u001b[0m\n",
            "Thought:\u001b[32;1m\u001b[1;3m I should look at the content key to see what parameters are required\n",
            "Action: json_spec_list_keys\n",
            "Action Input: data[\"paths\"][\"/completions\"][\"post\"][\"requestBody\"][\"content\"]\u001b[0m\n",
            "Observation: \u001b[36;1m\u001b[1;3m['application/json']\u001b[0m\n",
            "Thought:\u001b[32;1m\u001b[1;3m I should look at the application/json key to see what parameters are required\n",
            "Action: json_spec_list_keys\n",
            "Action Input: data[\"paths\"][\"/completions\"][\"post\"][\"requestBody\"][\"content\"][\"application/json\"]\u001b[0m\n",
            "Observation: \u001b[36;1m\u001b[1;3m['schema']\u001b[0m\n",
            "Thought:\u001b[32;1m\u001b[1;3m I should look at the schema key to see what parameters are required\n",
            "Action: json_spec_list_keys\n",
            "Action Input: data[\"paths\"][\"/completions\"][\"post\"][\"requestBody\"][\"content\"][\"application/json\"][\"schema\"]\u001b[0m\n",
            "Observation: \u001b[36;1m\u001b[1;3m['$ref']\u001b[0m\n",
            "Thought:\u001b[32;1m\u001b[1;3m I should look at the $ref key to see what parameters are required\n",
            "Action: json_spec_list_keys\n",
            "Action Input: data[\"paths\"][\"/completions\"][\"post\"][\"requestBody\"][\"content\"][\"application/json\"][\"schema\"][\"$ref\"]\u001b[0m\n",
            "Observation: \u001b[36;1m\u001b[1;3mValueError('Value at path `data[\"paths\"][\"/completions\"][\"post\"][\"requestBody\"][\"content\"][\"application/json\"][\"schema\"][\"$ref\"]` is not a dict, get the value directly.')\u001b[0m\n",
            "Thought:\u001b[32;1m\u001b[1;3m I should look at the $ref key to get the value directly\n",
            "Action: json_spec_get_value\n",
            "Action Input: data[\"paths\"][\"/completions\"][\"post\"][\"requestBody\"][\"content\"][\"application/json\"][\"schema\"][\"$ref\"]\u001b[0m\n",
            "Observation: \u001b[33;1m\u001b[1;3m#/components/schemas/CreateCompletionRequest\u001b[0m\n",
            "Thought:\u001b[32;1m\u001b[1;3m I should look at the CreateCompletionRequest schema to see what parameters are required\n",
            "Action: json_spec_list_keys\n",
            "Action Input: data[\"components\"][\"schemas\"][\"CreateCompletionRequest\"]\u001b[0m\n",
            "Observation: \u001b[36;1m\u001b[1;3m['type', 'properties', 'required']\u001b[0m\n",
            "Thought:\u001b[32;1m\u001b[1;3m I should look at the required key to see what parameters are required\n",
            "Action: json_spec_get_value\n",
            "Action Input: data[\"components\"][\"schemas\"][\"CreateCompletionRequest\"][\"required\"]\u001b[0m\n",
            "Observation: \u001b[33;1m\u001b[1;3m['model']\u001b[0m\n",
            "Thought:\u001b[32;1m\u001b[1;3m I now know the final answer\n",
            "Final Answer: The required parameters for a POST request to the /completions endpoint are 'model'.\u001b[0m\n",
            "\n",
            "\u001b[1m> Finished chain.\u001b[0m\n",
            "\n",
            "Observation: \u001b[33;1m\u001b[1;3mThe required parameters for a POST request to the /completions endpoint are 'model'.\u001b[0m\n",
            "Thought:\u001b[32;1m\u001b[1;3m I now know the parameters needed to make the request.\n",
            "Action: requests_post\n",
            "Action Input: { \"url\": \"https://api.openai.com/v1/completions\", \"data\": { \"model\": \"davinci\", \"prompt\": \"tell me a joke\" } }\u001b[0m\n",
            "Observation: \u001b[33;1m\u001b[1;3m{\"id\":\"cmpl-70Ivzip3dazrIXU8DSVJGzFJj2rdv\",\"object\":\"text_completion\",\"created\":1680307139,\"model\":\"davinci\",\"choices\":[{\"text\":\" with mummy not there”\\n\\nYou dig deep and come up with,\",\"index\":0,\"logprobs\":null,\"finish_reason\":\"length\"}],\"usage\":{\"prompt_tokens\":4,\"completion_tokens\":16,\"total_tokens\":20}}\n",
            "\u001b[0m\n",
            "Thought:\u001b[32;1m\u001b[1;3m I now know the final answer.\n",
            "Final Answer: The response of the POST request is {\"id\":\"cmpl-70Ivzip3dazrIXU8DSVJGzFJj2rdv\",\"object\":\"text_completion\",\"created\":1680307139,\"model\":\"davinci\",\"choices\":[{\"text\":\" with mummy not there”\\n\\nYou dig deep and come up with,\",\"index\":0,\"logprobs\":null,\"finish_reason\":\"length\"}],\"usage\":{\"prompt_tokens\":4,\"completion_tokens\":16,\"total_tokens\":20}}\u001b[0m\n",
            "\n",
            "\u001b[1m> Finished chain.\u001b[0m\n"
          ]
        },
        {
          "data": {
            "text/plain": [
              "'The response of the POST request is {\"id\":\"cmpl-70Ivzip3dazrIXU8DSVJGzFJj2rdv\",\"object\":\"text_completion\",\"created\":1680307139,\"model\":\"davinci\",\"choices\":[{\"text\":\" with mummy not there”\\\\n\\\\nYou dig deep and come up with,\",\"index\":0,\"logprobs\":null,\"finish_reason\":\"length\"}],\"usage\":{\"prompt_tokens\":4,\"completion_tokens\":16,\"total_tokens\":20}}'"
            ]
          },
          "execution_count": 33,
          "metadata": {},
          "output_type": "execute_result"
        }
      ],
      "source": [
        "openapi_agent_executor.run(\n",
        "    \"Make a post request to openai /completions. The prompt should be 'tell me a joke.'\"\n",
        ")"
      ]
    }
  ],
  "metadata": {
    "kernelspec": {
      "display_name": "Python 3 (ipykernel)",
      "language": "python",
      "name": "python3"
    },
    "language_info": {
      "codemirror_mode": {
        "name": "ipython",
        "version": 3
      },
      "file_extension": ".py",
      "mimetype": "text/x-python",
      "name": "python",
      "nbconvert_exporter": "python",
      "pygments_lexer": "ipython3",
      "version": "3.10.12"
    },
    "colab": {
      "provenance": []
    }
  },
  "nbformat": 4,
  "nbformat_minor": 5
}